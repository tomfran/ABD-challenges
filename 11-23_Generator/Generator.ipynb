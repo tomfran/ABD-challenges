{
 "cells": [
  {
   "cell_type": "code",
   "execution_count": 1,
   "metadata": {},
   "outputs": [],
   "source": [
    "from abc import ABC,abstractmethod\n",
    "import json\n",
    "from datetime import datetime, timedelta\n",
    "import sys\n",
    "from random import randint\n",
    "import numpy as np\n",
    "from numpy.random import exponential"
   ]
  },
  {
   "cell_type": "code",
   "execution_count": 2,
   "metadata": {},
   "outputs": [],
   "source": [
    "class typeGenerator(ABC):\n",
    "    def __init__(self):\n",
    "        pass\n",
    "\n",
    "    @abstractmethod\n",
    "    def generateEl(self,**args):\n",
    "        pass\n",
    "\n",
    "    def addDict(self,d,keyName,**args):\n",
    "        d[keyName] = self.generateEl(**args)\n",
    "        return d\n",
    "\n",
    "class intGenerator(typeGenerator):\n",
    "    def __init__(self):\n",
    "        return super().__init__()\n",
    "\n",
    "    def generateEl(self,*argList,**args):\n",
    "        if argList:\n",
    "            args = argList[0]\n",
    "        min = args.get(\"min\",0)\n",
    "        max = args.get(\"max\",1000)\n",
    "        return randint(min, max)\n",
    "\n",
    "class idGenerator(typeGenerator):\n",
    "    def __init__(self):\n",
    "        return super().__init__()\n",
    "\n",
    "    def generateEl(self,*argList,**args):\n",
    "        if argList:\n",
    "            args = argList[0]\n",
    "        prefix = args.get(\"prefix\",\"id\")\n",
    "        min = args.get(\"min\",0)\n",
    "        max = args.get(\"max\",1000)\n",
    "        return prefix+\"_\"+str(randint(min, max)).zfill(len(str(max))+1)\n",
    "\n",
    "    def addDict(self, d,keyName=\"id\", **args):\n",
    "        return super().addDict(d, keyName,**args)\n",
    "\n",
    "class dateGenerator(typeGenerator):\n",
    "    def __init__(self):\n",
    "        return super().__init__()\n",
    "\n",
    "    def generateEl(self,*argList,**args):\n",
    "        if argList:\n",
    "            args = argList[0]\n",
    "        startDate = args.get(\"startDate\",datetime(2010,1,1))\n",
    "        endDate = args.get(\"endDate\",datetime.now())\n",
    "        minPaceSeconds = args.get(\"minPaceSeconds\",3600)\n",
    "        maxPaceSeconds = args.get(\"maxPaceSeconds\",datetime.now())\n",
    "        maxS = int((endDate-startDate).total_seconds())\n",
    "        return startDate+timedelta(0,randint(minPaceSeconds,maxS))\n",
    "\n",
    "    def addDict(self, d, keyName=\"ts\", **args):\n",
    "        return super().addDict(d, keyName,**args)\n",
    "\n",
    "class tickGenerator(typeGenerator):\n",
    "    def __init__(self):\n",
    "        self.lastTick = False\n",
    "        return super().__init__()\n",
    "\n",
    "    def generateEl(self,*argList,**args):\n",
    "        if argList:\n",
    "            args = argList[0]\n",
    "        if not self.lastTick:\n",
    "            self.lastTick = args.get(\"firstTick\",datetime(2010,1,1))\n",
    "        minTick = args.get(\"minTick\",1)\n",
    "        maxTick = args.get(\"maxTick\",10)\n",
    "        self.lastTick += timedelta(0,randint(1,maxTick))\n",
    "        return self.lastTick"
   ]
  },
  {
   "cell_type": "code",
   "execution_count": 40,
   "metadata": {},
   "outputs": [],
   "source": [
    "class expIntGenerator(typeGenerator):\n",
    "    def __init__(self):\n",
    "        return super().__init__()\n",
    "\n",
    "    def generateEl(self,*argList,**args):\n",
    "        if argList:\n",
    "            args = argList[0]\n",
    "        scale = args.get(\"scale\",1)\n",
    "        multiplier = args.get(\"multiplier\",500)\n",
    "        return round(exponential(scale) * multiplier)"
   ]
  },
  {
   "cell_type": "code",
   "execution_count": 46,
   "metadata": {},
   "outputs": [],
   "source": [
    "class expFloatGenerator(typeGenerator):\n",
    "    def __init__(self):\n",
    "        return super().__init__()\n",
    "\n",
    "    def generateEl(self,*argList,**args):\n",
    "        if argList:\n",
    "            args = argList[0]\n",
    "        scale = args.get(\"scale\",1)\n",
    "        multiplier = args.get(\"multiplier\",500)\n",
    "        return (exponential(scale) * multiplier)"
   ]
  },
  {
   "cell_type": "code",
   "execution_count": 52,
   "metadata": {},
   "outputs": [],
   "source": [
    "import matplotlib.pyplot as plt"
   ]
  },
  {
   "cell_type": "code",
   "execution_count": 71,
   "metadata": {},
   "outputs": [],
   "source": [
    "x = expIntGenerator()\n",
    "\n",
    "to_plot = ([(x.generateEl()) for _ in range(10000)])"
   ]
  },
  {
   "cell_type": "code",
   "execution_count": 72,
   "metadata": {},
   "outputs": [
    {
     "data": {
      "text/plain": [
       "(array([6.879e+03, 2.189e+03, 6.520e+02, 1.910e+02, 6.900e+01, 1.500e+01,\n",
       "        3.000e+00, 1.000e+00, 0.000e+00, 1.000e+00]),\n",
       " array([   0. ,  581.7, 1163.4, 1745.1, 2326.8, 2908.5, 3490.2, 4071.9,\n",
       "        4653.6, 5235.3, 5817. ]),\n",
       " <a list of 10 Patch objects>)"
      ]
     },
     "execution_count": 72,
     "metadata": {},
     "output_type": "execute_result"
    },
    {
     "data": {
      "image/png": "[encoded data removed]",
      "text/plain": [
       "<Figure size 432x288 with 1 Axes>"
      ]
     },
     "metadata": {
      "needs_background": "light"
     },
     "output_type": "display_data"
    }
   ],
   "source": [
    "plt.hist(to_plot)"
   ]
  },
  {
   "cell_type": "code",
   "execution_count": 73,
   "metadata": {},
   "outputs": [],
   "source": [
    "x = expFloatGenerator()\n",
    "\n",
    "to_plot = ([(x.generateEl()) for _ in range(10000)])"
   ]
  },
  {
   "cell_type": "code",
   "execution_count": 74,
   "metadata": {},
   "outputs": [
    {
     "data": {
      "text/plain": [
       "(array([6.645e+03, 2.252e+03, 7.490e+02, 2.320e+02, 8.800e+01, 1.900e+01,\n",
       "        1.200e+01, 2.000e+00, 0.000e+00, 1.000e+00]),\n",
       " array([1.06983191e-03, 5.53045088e+02, 1.10608911e+03, 1.65913312e+03,\n",
       "        2.21217714e+03, 2.76522116e+03, 3.31826518e+03, 3.87130919e+03,\n",
       "        4.42435321e+03, 4.97739723e+03, 5.53044125e+03]),\n",
       " <a list of 10 Patch objects>)"
      ]
     },
     "execution_count": 74,
     "metadata": {},
     "output_type": "execute_result"
    },
    {
     "data": {
      "image/png": "[encoded data removed]",
      "text/plain": [
       "<Figure size 432x288 with 1 Axes>"
      ]
     },
     "metadata": {
      "needs_background": "light"
     },
     "output_type": "display_data"
    }
   ],
   "source": [
    "plt.hist(to_plot)"
   ]
  },
  {
   "cell_type": "code",
   "execution_count": 140,
   "metadata": {},
   "outputs": [],
   "source": [
    "class nonUniformeIdGenerator(typeGenerator):\n",
    "    def __init__(self):\n",
    "        return super().__init__()\n",
    "\n",
    "    def generateEl(self,*argList,**args):\n",
    "        if argList:\n",
    "            args = argList[0]\n",
    "        prefix = args.get(\"prefix\",\"id\")\n",
    "        lam = args.get(\"lam\",1)\n",
    "        multiplier = args.get(\"multiplier\",1)\n",
    "        #return prefix+\"_\"+str(np.random.poisson(lam=1.0)*multiplier).zfill(len(str(max))+1)\n",
    "        return round(np.random.poisson(lam)*multiplier)\n",
    "\n",
    "\n",
    "    def addDict(self, d,keyName=\"id\", **args):\n",
    "        return super().addDict(d, keyName,**args)"
   ]
  },
  {
   "cell_type": "code",
   "execution_count": 155,
   "metadata": {},
   "outputs": [],
   "source": [
    "x = nonUniformeIdGenerator()\n",
    "\n",
    "to_plot = ([(x.generateEl(lam=10)) for _ in range(10000)])"
   ]
  },
  {
   "cell_type": "code",
   "execution_count": 156,
   "metadata": {},
   "outputs": [
    {
     "data": {
      "text/plain": [
       "(array([  31.,  260., 1994., 2392., 2374., 2092.,  584.,  235.,   31.,\n",
       "           7.]),\n",
       " array([ 0. ,  2.4,  4.8,  7.2,  9.6, 12. , 14.4, 16.8, 19.2, 21.6, 24. ]),\n",
       " <a list of 10 Patch objects>)"
      ]
     },
     "execution_count": 156,
     "metadata": {},
     "output_type": "execute_result"
    },
    {
     "data": {
      "image/png": "[encoded data removed]",
      "text/plain": [
       "<Figure size 432x288 with 1 Axes>"
      ]
     },
     "metadata": {
      "needs_background": "light"
     },
     "output_type": "display_data"
    }
   ],
   "source": [
    "plt.hist(to_plot)"
   ]
  },
  {
   "cell_type": "code",
   "execution_count": null,
   "metadata": {},
   "outputs": [],
   "source": []
  }
 ],
 "metadata": {
  "kernelspec": {
   "display_name": "Python 3",
   "language": "python",
   "name": "python3"
  },
  "language_info": {
   "codemirror_mode": {
    "name": "ipython",
    "version": 3
   },
   "file_extension": ".py",
   "mimetype": "text/x-python",
   "name": "python",
   "nbconvert_exporter": "python",
   "pygments_lexer": "ipython3",
   "version": "3.7.6"
  }
 },
 "nbformat": 4,
 "nbformat_minor": 4
}
